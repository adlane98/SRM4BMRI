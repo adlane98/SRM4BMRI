{
 "cells": [
  {
   "cell_type": "code",
   "execution_count": 1,
   "metadata": {},
   "outputs": [],
   "source": [
    "import matplotlib.pyplot as plt\n",
    "def show_slices(slices):\n",
    "    \"\"\" Function to display row of image slices \"\"\"\n",
    "    fig, axes = plt.subplots(1, len(slices))\n",
    "    for i, slice in enumerate(slices):\n",
    "        axes[i].imshow(slice.T, cmap=\"gray\", origin=\"lower\")"
   ]
  },
  {
   "cell_type": "code",
   "execution_count": null,
   "metadata": {},
   "outputs": [],
   "source": [
    "img = nib.load(...)\n",
    "\n",
    "#get the image data for processing\n",
    "image_1 = nib.load(...).get_data()\n",
    "\n",
    "#call your network to do the super resolution --> this results in an output volume\n",
    ".\n",
    ".\n",
    ".\n",
    ".\n",
    "\n",
    "#create the affine transformation in the header of the output volume\n",
    "new_image = nib.Nifti1Image(output, img.affine)\n",
    "#save the new_image in the desired folder\n",
    "nib.save(new_image, os.path.join(...)) \n",
    "\n",
    "#show slices of input and output volumes\n",
    "show_slices([output[28, :, :],\n",
    "             output[:, 33, :],\n",
    "             output[:, :, 28]])\n",
    "plt.figure()\n",
    "show_slices([image_1[28, :, :],\n",
    "             image_1[:, 33, :],\n",
    "             image_1[:, :, 28]])"
   ]
  }
 ],
 "metadata": {
  "kernelspec": {
   "display_name": "Python 3",
   "language": "python",
   "name": "python3"
  },
  "language_info": {
   "codemirror_mode": {
    "name": "ipython",
    "version": 3
   },
   "file_extension": ".py",
   "mimetype": "text/x-python",
   "name": "python",
   "nbconvert_exporter": "python",
   "pygments_lexer": "ipython3",
   "version": "3.7.6"
  }
 },
 "nbformat": 4,
 "nbformat_minor": 4
}