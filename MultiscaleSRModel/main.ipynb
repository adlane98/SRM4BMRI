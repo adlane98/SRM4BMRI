{
 "cells": [
  {
   "cell_type": "code",
   "execution_count": 22,
   "metadata": {
    "pycharm": {
     "is_executing": true,
     "name": "#%%\n"
    }
   },
   "outputs": [
    {
     "name": "stdout",
     "output_type": "stream",
     "text": [
      "The tensorboard extension is already loaded. To reload it, use:\n",
      "  %reload_ext tensorboard\n"
     ]
    }
   ],
   "source": [
    "%load_ext tensorboard\n",
    "from datetime import datetime\n",
    "\n",
    "import numpy as np\n",
    "import scipy.ndimage\n",
    "import tensorflow as tf\n",
    "from tensorflow import keras\n",
    "from tensorflow import pad\n",
    "import tensorflow.keras.backend as K\n",
    "from tensorflow.keras.initializers import RandomNormal, Constant\n",
    "from tensorflow.keras.layers import Conv3D, ReLU, Input, Add, Flatten\n",
    "from tensorflow.keras.models import Model\n",
    "from tensorflow.keras.optimizers import Adam\n",
    "import h5py\n",
    "import SimpleITK as sitk\n",
    "\n",
    "from adamLRM import AdamLRM\n",
    "from patches import array_to_patches\n",
    "from store2hdf5 import store2hdf53D\n",
    "from utils3D import modcrop3D, shave3D, imadjust3D\n",
    "import matplotlib.pyplot as plt"
   ]
  },
  {
   "cell_type": "code",
   "execution_count": 8,
   "metadata": {
    "pycharm": {
     "name": "#%%\n"
    }
   },
   "outputs": [],
   "source": [
    "def SRReCNN3D(input_shape, depth, nb_filters, kernel_size, padding, to_json=False):\n",
    "    input_layer = Input(input_shape)\n",
    "    layer = input_layer\n",
    "\n",
    "    for i in range(depth+1):\n",
    "        nf = 1 if i == depth else nb_filters\n",
    "        padded_layer = pad(layer, [[0, 0], [padding, padding], [padding, padding], [padding, padding], [0, 0]])\n",
    "        layer = Conv3D(\n",
    "            filters=nf,\n",
    "            kernel_size=kernel_size,\n",
    "            strides=1,\n",
    "            padding=\"valid\",\n",
    "            kernel_initializer=RandomNormal(\n",
    "                mean=0,\n",
    "                stddev=0.0001\n",
    "            ),\n",
    "            bias_initializer=Constant(0)\n",
    "        )(padded_layer)\n",
    "        if i < depth:\n",
    "            layer = ReLU()(layer)\n",
    "\n",
    "    # add_layer = Add()([input_layer, layer])\n",
    "\n",
    "    model = Model(input_layer, layer)\n",
    "\n",
    "    if to_json:\n",
    "        with open(\"model.js\", \"w\") as json_model:\n",
    "            json_model.write(model.to_json())\n",
    "\n",
    "\n",
    "    return model\n",
    "\n",
    "\n",
    "def read_hdf5_files(source_file):\n",
    "    with open(source_file) as sf:\n",
    "        hdf5_name_files = sf.readlines()\n",
    "        data = []\n",
    "        labels = []\n",
    "        for hdf5_name_file in hdf5_name_files:\n",
    "            with h5py.File(hdf5_name_file[:-1]) as hdf5data:\n",
    "                data.extend(list(hdf5data[list(hdf5data.keys())[0]]))\n",
    "                labels.extend(list(hdf5data[list(hdf5data.keys())[1]]))\n",
    "\n",
    "    return np.asarray(data), np.asarray(labels)"
   ]
  },
  {
   "cell_type": "code",
   "execution_count": 20,
   "metadata": {
    "pycharm": {
     "name": "#%%\n"
    }
   },
   "outputs": [],
   "source": [
    "def launch_training(\n",
    "        hdf5_source_file, depth, nb_filters, kernel_size, padding\n",
    "):\n",
    "    data, labels = read_hdf5_files(hdf5_source_file)\n",
    "    model = SRReCNN3D(data[0].shape, depth, nb_filters, kernel_size, padding)\n",
    "    model.compile(optimizer=AdamLRM(learning_rate=0.0001), loss=\"mse\", metrics=[psnr_model], run_eagerly=True)\n",
    "    \n",
    "    logdir=\"logs/fit/\" + datetime.now().strftime(\"%Y%m%d-%H%M%S\")\n",
    "    tensorboard_callback = keras.callbacks.TensorBoard(log_dir=logdir)\n",
    "\n",
    "    history = model.fit(data[0], labels[0], batch_size=4, epochs=2, callbacks=[tensorboard_callback])\n",
    "    plt.figure(figsize=(11, 3))\n",
    "\n",
    "    # affichage de la valeur de la fonction de perte\n",
    "    plt.subplot(1, 2, 1)\n",
    "    plt.plot(history.epoch, history.history['loss'])\n",
    "    plt.title('loss')\n",
    "\n",
    "    # affichage de la précision de notre réseau sur les données d'apprentissage\n",
    "    plt.subplot(1, 2, 2)\n",
    "    plt.plot(history.epoch, history.history['psnr_model'])\n",
    "    plt.title('psnr')\n",
    "\n",
    "    return model\n",
    "\n",
    "\n",
    "def psnr_model(y_pred, y_true):\n",
    "    return tf.image.psnr(y_pred.numpy(), y_true, np.max(y_pred.numpy())).numpy()\n",
    "\n",
    "def psnr(y_pred, y_true):\n",
    "    return tf.image.psnr(y_pred, y_true, np.max(y_pred))"
   ]
  },
  {
   "cell_type": "code",
   "execution_count": 17,
   "metadata": {
    "pycharm": {
     "name": "#%%\n"
    }
   },
   "outputs": [],
   "source": [
    "def generate_input_image(hr_image, blur_std):\n",
    "    blurred_image = scipy.ndimage.filters.gaussian_filter(\n",
    "        hr_image, sigma=blur_std\n",
    "    )\n",
    "\n",
    "    # Downsampling\n",
    "    low_resolution_image = scipy.ndimage.zoom(\n",
    "        blurred_image,\n",
    "        zoom=(1 / float(idxScale) for idxScale in scale),\n",
    "        order=order\n",
    "    )\n",
    "    # write_nii(low_resolution_image, ri_min, ri_max, \"lr.nii\")\n",
    "\n",
    "    # Cubic Interpolation\n",
    "    lr_interpolated_image = scipy.ndimage.zoom(\n",
    "        low_resolution_image, zoom=scale, order=order\n",
    "    )\n",
    "\n",
    "    return lr_interpolated_image"
   ]
  },
  {
   "cell_type": "code",
   "execution_count": 23,
   "metadata": {
    "pycharm": {
     "is_executing": true
    }
   },
   "outputs": [
    {
     "name": "stdout",
     "output_type": "stream",
     "text": [
      "1944 patches have been extracted\n",
      "1944 patches have been extracted\n",
      "*) Writing to HDF5 file : data/1010.nii.h5\n",
      "Warning: replacing existing filedata/1010.nii.h5\n",
      "\n",
      "2400 patches have been extracted\n",
      "2400 patches have been extracted\n",
      "*) Writing to HDF5 file : data/1037.nii.h5\n",
      "Warning: replacing existing filedata/1037.nii.h5\n",
      "\n"
     ]
    },
    {
     "name": "stderr",
     "output_type": "stream",
     "text": [
      "D:\\Projet\\SRM4BMRI\\MultiscaleSRModel\\venv361\\lib\\site-packages\\ipykernel_launcher.py:40: H5pyDeprecationWarning: The default file mode will change to 'r' (read-only) in h5py 3.0. To suppress this warning, pass the mode you need to h5py.File(), or set the global default h5.get_config().default_file_mode, or set the environment variable H5PY_DEFAULT_READONLY=1. Available modes are: 'r', 'r+', 'w', 'w-'/'x', 'a'. See the docs for details.\n"
     ]
    },
    {
     "name": "stdout",
     "output_type": "stream",
     "text": [
      "Epoch 1/2\n",
      "6/6 [==============================] - 3s 546ms/step - loss: 0.0013 - psnr_model: 22.9980\n",
      "Epoch 2/2\n",
      "6/6 [==============================] - 2s 365ms/step - loss: 0.0013 - psnr_model: 23.0232\n"
     ]
    },
    {
     "data": {
      "text/plain": [
       "<tensorflow.python.keras.engine.functional.Functional at 0x22d1e399cc0>"
      ]
     },
     "execution_count": 23,
     "metadata": {},
     "output_type": "execute_result"
    },
    {
     "data": {
      "image/png": "[encoded data removed]",
      "text/plain": [
       "<Figure size 792x216 with 2 Axes>"
      ]
     },
     "metadata": {
      "needs_background": "light"
     },
     "output_type": "display_data"
    }
   ],
   "source": [
    "sg = 1\n",
    "scale = (2, 2, 2)\n",
    "border = (0, 0, 0)\n",
    "order = 3\n",
    "ps = 21\n",
    "stride = 5\n",
    "samples = np.inf\n",
    "\n",
    "image_names = [\"1010.nii\", \"1037.nii\"]\n",
    "\n",
    "hdf5_file = open(\"data/hdf5data.txt\", \"w\")\n",
    "\n",
    "for image_name in image_names:\n",
    "    data_patches = []\n",
    "    labels_patches = []\n",
    "    image_path = r\"data\\\\\" + image_name\n",
    "    reference_nifti = sitk.ReadImage(image_path)\n",
    "\n",
    "    # Get data from NIFTI\n",
    "    reference_image = np.swapaxes(\n",
    "        sitk.GetArrayFromImage(reference_nifti), 0, 2\n",
    "    ).astype('float32')\n",
    "\n",
    "    ri_max = np.max(reference_image)\n",
    "    ri_min = np.min(reference_image)\n",
    "\n",
    "    # Normalization\n",
    "    reference_image = imadjust3D(reference_image, [0, 1])\n",
    "    # write_nii(reference_image, ri_min, ri_max, \"ref.nii\")\n",
    "\n",
    "    # Modcrop to scale factor\n",
    "    reference_image = modcrop3D(reference_image, scale)\n",
    "\n",
    "    # ===== Generate input LR image =====\n",
    "    interpolated_image = generate_input_image(reference_image, blur_std=1)\n",
    "\n",
    "    # Shave border\n",
    "    label_image = shave3D(reference_image, border)\n",
    "    data_image = shave3D(interpolated_image, border)\n",
    "\n",
    "    # Extract 3D patches\n",
    "    data_patch = array_to_patches(\n",
    "        data_image,\n",
    "        patch_shape=(ps, ps, ps),\n",
    "        extraction_step=stride,\n",
    "        normalization=False\n",
    "    )\n",
    "\n",
    "    label_patch = array_to_patches(\n",
    "        label_image,\n",
    "        patch_shape=(ps, ps, ps),\n",
    "        extraction_step=stride,\n",
    "        normalization=False\n",
    "    )\n",
    "\n",
    "    data_patches.append(data_patch)\n",
    "    labels_patches.append(label_patch)\n",
    "\n",
    "    data_patches = np.asarray(data_patches).reshape((-1, ps, ps, ps))\n",
    "    labels_patches = np.asarray(labels_patches).reshape((-1, ps, ps, ps))\n",
    "\n",
    "    # Add channel axis !\n",
    "    data_patches = data_patches[:, :, :, :, np.newaxis]\n",
    "    labels_patches = labels_patches[:, :, :, :, np.newaxis]\n",
    "\n",
    "    # Rearrange and select samples\n",
    "    np.random.seed(0)  # makes the random numbers predictable\n",
    "    random_order = np.random.permutation(\n",
    "        min(data_patches.shape[0], samples)\n",
    "    )\n",
    "    data_patches = data_patches[random_order, :, :, :, :]\n",
    "    labels_patches = labels_patches[random_order, :, :, :, :]\n",
    "\n",
    "\n",
    "    # Writing to HDF5\n",
    "    hdf5name = f\"data/{image_name}.h5\"\n",
    "    print(f'*) Writing to HDF5 file : {hdf5name}')\n",
    "    StartLocation = {'dat': (0, 0, 0, 0, 0), 'lab': (0, 0, 0, 0, 0)}\n",
    "    CurrentDataLocation = store2hdf53D(\n",
    "        filename=hdf5name,\n",
    "        datas=data_patches,\n",
    "        labels=labels_patches,\n",
    "        startloc=StartLocation,\n",
    "        chunksz=64\n",
    "    )\n",
    "\n",
    "    hdf5_file.write(hdf5name + \"\\n\")\n",
    "\n",
    "hdf5_file.close()\n",
    "\n",
    "launch_training(\n",
    "    hdf5_file.name,\n",
    "    depth=10,\n",
    "    nb_filters=64,\n",
    "    kernel_size=3,\n",
    "    padding=1\n",
    ")"
   ]
  },
  {
   "cell_type": "code",
   "execution_count": null,
   "outputs": [],
   "source": [
    "%tensorboard --logdir logs"
   ],
   "metadata": {
    "collapsed": false,
    "pycharm": {
     "name": "#%%\n"
    }
   }
  },
  {
   "cell_type": "code",
   "execution_count": null,
   "outputs": [],
   "source": [],
   "metadata": {
    "collapsed": false,
    "pycharm": {
     "name": "#%%\n"
    }
   }
  },
  {
   "cell_type": "code",
   "execution_count": 24,
   "metadata": {},
   "outputs": [
    {
     "data": {
      "text/plain": [
       "Reusing TensorBoard on port 6006 (pid 23844), started 0:07:13 ago. (Use '!kill 23844' to kill it.)"
      ]
     },
     "metadata": {},
     "output_type": "display_data"
    },
    {
     "data": {
      "text/html": [
       "\n",
       "      <iframe id=\"tensorboard-frame-c6f4a2a10715d4ab\" width=\"100%\" height=\"800\" frameborder=\"0\">\n",
       "      </iframe>\n",
       "      <script>\n",
       "        (function() {\n",
       "          const frame = document.getElementById(\"tensorboard-frame-c6f4a2a10715d4ab\");\n",
       "          const url = new URL(\"/\", window.location);\n",
       "          const port = 6006;\n",
       "          if (port) {\n",
       "            url.port = port;\n",
       "          }\n",
       "          frame.src = url;\n",
       "        })();\n",
       "      </script>\n",
       "    "
      ],
      "text/plain": [
       "<IPython.core.display.HTML object>"
      ]
     },
     "metadata": {},
     "output_type": "display_data"
    }
   ],
   "source": []
  },
  {
   "cell_type": "code",
   "execution_count": null,
   "metadata": {},
   "outputs": [],
   "source": []
  }
 ],
 "metadata": {
  "kernelspec": {
   "display_name": "PyCharm (MultiscaleSRModel)",
   "language": "python",
   "name": "pycharm-6498ead6"
  },
  "language_info": {
   "codemirror_mode": {
    "name": "ipython",
    "version": 3
   },
   "file_extension": ".py",
   "mimetype": "text/x-python",
   "name": "python",
   "nbconvert_exporter": "python",
   "pygments_lexer": "ipython3",
   "version": "3.6.1"
  }
 },
 "nbformat": 4,
 "nbformat_minor": 1
}